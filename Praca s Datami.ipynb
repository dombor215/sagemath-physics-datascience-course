{
 "cells": [
  {
   "cell_type": "markdown",
   "metadata": {},
   "source": [
    "**Autor:** Dominik Borovský, 2024, PF UPJŠ v Košiciach\n",
    "***"
   ]
  },
  {
   "cell_type": "markdown",
   "metadata": {},
   "source": [
    "# Práca s dátami v Sagi"
   ]
  },
  {
   "cell_type": "markdown",
   "metadata": {},
   "source": [
    "V tomto pracovnom liste sa naučíte:\n",
    "- ako môžete so Sagom spracovať dáta z merania\n",
    "- ako vhodne vizualizovať dáta z opakovaných meraní v podobe _error bar_ grafov"
   ]
  },
  {
   "cell_type": "markdown",
   "metadata": {},
   "source": [
    "# Vzorová situácia - meranie tuhosti pružiny $k$"
   ]
  },
  {
   "cell_type": "markdown",
   "metadata": {},
   "source": [
    "## Teoretické pozadie\n",
    "\n",
    "Na odmeranie pružnosti možno použitiť známu závislosť pre veľkosť sily $F$ potrebnej na natiahnutie o pružiny $x$:\n",
    "\n",
    "$$F = kx$$\n",
    "\n",
    "kde:\n",
    "- $F$ je veľkosť pôsobiacej sila v $\\mathrm{N}$\n",
    "- $k$ je tuhosť pružiny v $\\mathrm{N/m}$\n",
    "- $x$ je predĺženie pružiny v $\\mathrm{m}$"
   ]
  },
  {
   "cell_type": "markdown",
   "metadata": {},
   "source": [
    "## Ako by mohlo vyzerať meranie\n",
    "\n",
    "Počas merania by ste pružinu pripevnenú na silomer postupne naťahovali tak, že by dosiahla určitú dĺžku (napr. dĺžky $1~\\mathrm{cm}$, $2~\\mathrm{cm}$, ... , $10~\\mathrm{cm}$). Pre každú z dĺžok by ste robili meranie 10-krát. Celkový počet nameraných hodnôt by bol potom $10\\times10=100~\\mathrm{meraní}$."
   ]
  },
  {
   "cell_type": "markdown",
   "metadata": {},
   "source": [
    "<a href=\"https://postimages.org/\" target=\"_blank\"><img style=\"display: block; margin-left: auto; margin-right: auto;\" src=\"https://i.postimg.cc/rwv68XJ7/suspension-spring-car.webp\" alt=\"suspension-spring-car\" width=\"70%\" border=\"0\" /></a>\n",
    "\n",
    "<!-- <a href=\"https://postimages.org/\" target=\"_blank\"><img style=\"display: block; margin-left: auto; margin-right: auto;\" src=\"https://i.postimg.cc/rwv68XJ7/suspension-spring-car.webp\" alt=\"suspension-spring-car\" width=\"70%\" border=\"0\" /></a> -->"
   ]
  },
  {
   "cell_type": "markdown",
   "metadata": {},
   "source": [
    "<p style=\"text-align: center;\">Obr. 1: Tlmič v aute</p>\n",
    "<p style=\"text-align: center;\"><sub><em>(zdroj: https://www.airedalesprings.co.uk/blog/choosing-the-best-materials-for-springs/)</em></sub></p>"
   ]
  },
  {
   "cell_type": "markdown",
   "metadata": {},
   "source": [
    "## Prečo by nás to mohlo zaujímať\n",
    "\n",
    "Tuhosť pružiny je kľúčovým parametrom pre tlmiče v autách (ktoré nie sú nič iné ako veľké pružiny), ktorý určuje, aká pohodlná bude naša jazda po nespevnených cestách alebo cestných komunikáciách v dezolátnom stave.\n"
   ]
  },
  {
   "cell_type": "markdown",
   "metadata": {},
   "source": [
    "# Príprava"
   ]
  },
  {
   "cell_type": "markdown",
   "metadata": {},
   "source": [
    "V niektorých poskytnutých dokumentoch uvidíte túto bunku, ktorá nerobí nič iné, ako načíta niektoré dodatočné príkazy, ktoré sme pre vás pripravili. Sú dostupné na našom Githube [JupyterPER/SageMathApplications: our own codes and packages using SageMath](https://github.com/JupyterPER/SageMathApplications)."
   ]
  },
  {
   "cell_type": "code",
   "execution_count": 1,
   "metadata": {},
   "outputs": [],
   "source": [
    "# inštalácia knižnice pandas\n",
    "# ak ešte nebola nainštalovaná alebo nie ste v html stránke, odkomentujte nasledujúci riadok\n",
    "# !pip install pandas"
   ]
  },
  {
   "cell_type": "code",
   "execution_count": 2,
   "metadata": {},
   "outputs": [
    {
     "name": "stdout",
     "output_type": "stream",
     "text": [
      "SageMathCellUtils loaded!\n"
     ]
    }
   ],
   "source": [
    "# sem načítame niektoré užitočné príkazy z nášho GitHub úložiska\n",
    "url = \"https://raw.githubusercontent.com/JupyterPER/SageMathApplications/refs/heads/main/SageMathCellUtils.sage\"\n",
    "load(url)"
   ]
  },
  {
   "cell_type": "markdown",
   "metadata": {},
   "source": [
    "# Načítanie, kontrola a úprava dát"
   ]
  },
  {
   "cell_type": "markdown",
   "metadata": {},
   "source": [
    "## Načítanie dát"
   ]
  },
  {
   "cell_type": "markdown",
   "metadata": {},
   "source": [
    "Najpriamočiarejšie je načítanie a spracovanie ďalšie spracovanie dát pomocou knižnice `pandas`. Ak pracuje priamo v Jupyter Notebooku, môžete ich načítať pomocou nasledujúcich príkazov:"
   ]
  },
  {
   "cell_type": "code",
   "execution_count": 3,
   "metadata": {},
   "outputs": [
    {
     "data": {
      "text/html": [
       "<div>\n",
       "<style scoped>\n",
       "    .dataframe tbody tr th:only-of-type {\n",
       "        vertical-align: middle;\n",
       "    }\n",
       "\n",
       "    .dataframe tbody tr th {\n",
       "        vertical-align: top;\n",
       "    }\n",
       "\n",
       "    .dataframe thead th {\n",
       "        text-align: right;\n",
       "    }\n",
       "</style>\n",
       "<table border=\"1\" class=\"dataframe\">\n",
       "  <thead>\n",
       "    <tr style=\"text-align: right;\">\n",
       "      <th></th>\n",
       "      <th>x [cm]</th>\n",
       "      <th>F [N]</th>\n",
       "    </tr>\n",
       "  </thead>\n",
       "  <tbody>\n",
       "    <tr>\n",
       "      <th>0</th>\n",
       "      <td>1</td>\n",
       "      <td>4.190526</td>\n",
       "    </tr>\n",
       "    <tr>\n",
       "      <th>1</th>\n",
       "      <td>1</td>\n",
       "      <td>2.034063</td>\n",
       "    </tr>\n",
       "    <tr>\n",
       "      <th>2</th>\n",
       "      <td>1</td>\n",
       "      <td>2.532820</td>\n",
       "    </tr>\n",
       "    <tr>\n",
       "      <th>3</th>\n",
       "      <td>1</td>\n",
       "      <td>2.907516</td>\n",
       "    </tr>\n",
       "    <tr>\n",
       "      <th>4</th>\n",
       "      <td>1</td>\n",
       "      <td>1.711077</td>\n",
       "    </tr>\n",
       "    <tr>\n",
       "      <th>...</th>\n",
       "      <td>...</td>\n",
       "      <td>...</td>\n",
       "    </tr>\n",
       "    <tr>\n",
       "      <th>95</th>\n",
       "      <td>10</td>\n",
       "      <td>24.944133</td>\n",
       "    </tr>\n",
       "    <tr>\n",
       "      <th>96</th>\n",
       "      <td>10</td>\n",
       "      <td>27.259947</td>\n",
       "    </tr>\n",
       "    <tr>\n",
       "      <th>97</th>\n",
       "      <td>10</td>\n",
       "      <td>25.869039</td>\n",
       "    </tr>\n",
       "    <tr>\n",
       "      <th>98</th>\n",
       "      <td>10</td>\n",
       "      <td>24.657883</td>\n",
       "    </tr>\n",
       "    <tr>\n",
       "      <th>99</th>\n",
       "      <td>10</td>\n",
       "      <td>24.528073</td>\n",
       "    </tr>\n",
       "  </tbody>\n",
       "</table>\n",
       "<p>100 rows × 2 columns</p>\n",
       "</div>"
      ],
      "text/plain": [
       "    x [cm]      F [N]\n",
       "0        1   4.190526\n",
       "1        1   2.034063\n",
       "2        1   2.532820\n",
       "3        1   2.907516\n",
       "4        1   1.711077\n",
       "..     ...        ...\n",
       "95      10  24.944133\n",
       "96      10  27.259947\n",
       "97      10  25.869039\n",
       "98      10  24.657883\n",
       "99      10  24.528073\n",
       "\n",
       "[100 rows x 2 columns]"
      ]
     },
     "execution_count": 3,
     "metadata": {},
     "output_type": "execute_result"
    }
   ],
   "source": [
    "# načítanie knižnice pandas\n",
    "import pandas as pd\n",
    "\n",
    "\n",
    "# načítanie dát z csv súborov - odkomentujte, ak máte k dispozícii dáta\n",
    "data = pd.read_csv(\"hooks_law_data.csv\")\n",
    "data"
   ]
  },
  {
   "cell_type": "markdown",
   "metadata": {},
   "source": [
    "> _**Poznámka:**_ Ako argumenty pre `read_excel`, resp. `read_csv` sa uvádzajú názvy súborov, resp. celá cesta k súborom v podpriečinkoch v tvare `cesta/k/priecinku/nazov_suboru.csv`. Ak chcete použiť read_excel, je možné, že okrem knižnice `pandas` potrebujete nainštalovanú aj knižnicu `openpyxl` (priamo v bunke spustením `!pip install openpyxl`).\n",
    "> \n",
    "> _**Ak pracujete s jednou z naších HTML stránok:**_ Tento dokument, čo do výpočtov, funguje čisto na cloudovej báze, t.j. vaše výpočty sa posielajú na server, ktorý váš vstup spracuje a pošle vám naspäť len výsledok. Posielať namerané dáta na cloud môžete v textovej podobe. Najjednoduchšie je:\n",
    "> 1. namerané dáta uložiť v csv tabuľke\n",
    "> 2. csv súbor otvoriť v textovom editore (pravým klik na súbor $\\rightarrow$ Otvoriť v programe $\\rightarrow$ Poznámkový blok alebo napr. [Notepad++](https://notepad-plus-plus.org/))\n",
    "> 3. vybrať všetky dáta a skopírovať si ich (cez `Ctrl+A` a `Ctrl+C`)\n",
    "> 4. prilepiť ich do bunky ako multriadkový python reťazec medzi `\"\"\" \"\"\"`\n",
    "\n",
    "Tu je ukážka výsledku tejto \"copy/paste\" metódy. "
   ]
  },
  {
   "cell_type": "markdown",
   "metadata": {},
   "source": [
    "Dáta načítané v pandas sa transformujú na `DataFrame`, čo je ako Python verzia tabuľky v Exceli:\n",
    "\n",
    "- Má riadky a stĺpce\n",
    "- Obsahuje dáta rôznych typov\n",
    "- Umožňuje ľahko pracovať s údajmi\n",
    "\n",
    "Je to užitočný nástroj na organizáciu a analýzu dát v Pythone.\n",
    "\n",
    "Pre správne načítanie dát do `DataFrame`-u musí byť v prvom riadku tabuľky hlavička s popisom a v ďalších riadkov sa musia nachádzať už namerané hodnoty. Ako všade v Sagi alebo aj Pythone všeobecne, číselné dáta majú **desatinnú bodku miesto desatinnej čiarky**. "
   ]
  },
  {
   "cell_type": "markdown",
   "metadata": {},
   "source": [
    "## Kontrola dát"
   ]
  },
  {
   "cell_type": "markdown",
   "metadata": {},
   "source": [
    "Často je potrebná obozretnosť, či vaše dáta neobsahujú prázdne riadky, alebo nie sú úplné. Jednoduchú kontrolu môžeme urobiť pomocou `.info()`"
   ]
  },
  {
   "cell_type": "code",
   "execution_count": 4,
   "metadata": {},
   "outputs": [
    {
     "name": "stdout",
     "output_type": "stream",
     "text": [
      "<class 'pandas.core.frame.DataFrame'>\n",
      "RangeIndex: 100 entries, 0 to 99\n",
      "Data columns (total 2 columns):\n",
      " #   Column  Non-Null Count  Dtype  \n",
      "---  ------  --------------  -----  \n",
      " 0   x [cm]  100 non-null    int64  \n",
      " 1   F [N]   100 non-null    float64\n",
      "dtypes: float64(1), int64(1)\n",
      "memory usage: 1.7 KB\n"
     ]
    }
   ],
   "source": [
    "# jednoduchá kontrola dát\n",
    "data.info()"
   ]
  },
  {
   "cell_type": "markdown",
   "metadata": {},
   "source": [
    "Z reportu získaného pomocou `.info()` vieme vyčítať, že:\n",
    "\n",
    "- naša tabuľka obsahuje dva stĺpce s názvami `x [cm]` a `F [N]`\n",
    "- každý stĺpec obsahuje po 100 _\"non-null\"_ hodnôt - tým sa nemyslí, že v nameraných hodnotách nie sú 0, ale že sa v nich nenachádzajú žiadne prázdne riadky, čo by malo za následok, že sa v nich objaví hodnota `NaN` (_Not a Number_, teda chýbajúca hodnota)\n",
    "- dáta v stĺpci `x [cm]` sú typu `int64`, t.j. celé čísla `integer`, a dáta v stĺpci `F [N]` sú typu `float64`, t.j. desatinné čísla (_floating-point number_, čísla s \"plávajúcou\" desatinnou čiarkou)\n",
    "\n",
    " V tomto prípade sa zdá, že dáta sú v poriadku. Poďme to trochu pokaziť a pozrieť sa na to, ako chyby v dátach detekovať."
   ]
  },
  {
   "cell_type": "code",
   "execution_count": 5,
   "metadata": {},
   "outputs": [],
   "source": [
    "# surové data z csv tabuľky v podobe textu\n",
    "csv_data_pokazene = \"\"\"\n",
    "x [cm],F [N]\n",
    "1,4.190525703800356\n",
    "1,2.034062629459167\n",
    "1,2.5328201636785845\n",
    "1,2.9075162829965078\n",
    "1,1.7110769713742613\n",
    "1,2.502065572905948\n",
    "1,2.4991096141420686\n",
    "1,0.7452756936545792\n",
    "1,3.517658005663493\n",
    "1,3.1004985159195493\n",
    "2,4.37457102603324\n",
    "2,4.8284517388042785\n",
    "2,5.505299374196752\n",
    "2,4.738643584808353\n",
    "2,4.757250921327453\n",
    "2,3.5467585875092094\n",
    "2,5.554580311891888\n",
    "2,5.123880905287038\n",
    "2,5.274459923759964\n",
    "2,3.47347546813016\n",
    "3,9.150699691186475\n",
    ",7.654335535456358\n",
    "3,7.112860056713612\n",
    "3,9.529072220761112\n",
    "3,7.454613970139354\n",
    "3,6.049321300853425\n",
    "3,7.094772144572313\n",
    "3,5.2116848980282775\n",
    "3,8.549396549343255\n",
    "3,7.083525681479982\n",
    "4,9.257446474795433\n",
    "4,11.072470131575496\n",
    "4,8.348924410594162\n",
    "4,10.535429356326091\n",
    "4,7.935585196878824\n",
    "4,9.33784066033319\n",
    "4,8.795780154400267\n",
    "4,11.461975627213524\n",
    "4,11.766160877929334\n",
    "4,9.670586248086934\n",
    "5,9.670586248086934\n",
    "5,12.32001359874765\n",
    "5,13.068061887327982\n",
    "5,11.747162803578535\n",
    "5,10.791660796832945\n",
    "5,10.69690134152026\n",
    "5,12.883121851757512\n",
    "5,14.7475950528077\n",
    "5,12.769411630507888\n",
    "5,11.975395380599148\n",
    "6,16.91201886233194\n",
    "6,15.237301846637193\n",
    "6,15.101433985211616\n",
    "6,15.252577735555317\n",
    "6,14.867622802433154\n",
    "6,14.69052365941112\n",
    "6,13.565036533964445\n",
    "6,15.50162412318104\n",
    "6,14.905224549560106\n",
    "6,16.19308592234401\n",
    "7,17.131181531552155\n",
    "7,15.593630121469532\n",
    "7,17.400389368105134\n",
    "7,19.19953729674668\n",
    "7,17.11657687706849\n",
    "7,16.61014313897925\n",
    "7,16.306408077741818\n",
    "7,16.449983188924627\n",
    "7,17.199806263199836\n",
    "7,16.320017906541796\n",
    "8,21.497639115597583\n",
    "8,19.71736476392462\n",
    "8,20.10864837149473\n",
    "8,21.438239520733756\n",
    "8,21.50331852041691\n",
    "8,19.787267032982438\n",
    "8,20.331974215488497\n",
    "8,20.73502658437736\n",
    "8,19.80714453965022\n",
    "8,18.221987147041492\n",
    "9,23.15470570370311\n",
    "9,23.394352304820533\n",
    ",22.91550261429801\n",
    "9,21.57645534328678\n",
    "9,22.303972687692035\n",
    "9,21.909230181136863\n",
    "9,22.200288762672173\n",
    "9,23.796885192726673\n",
    "9,24.029579633393155\n",
    "9,23.169418193409662\n",
    "10,25.548745119778328\n",
    "10,25.676628989555887\n",
    "10,24.987757813393557\n",
    "10,24.924336538512932\n",
    "10,24.326354812623926\n",
    "10,24.944132549949927\n",
    "10,27.25994698662626\n",
    "10,25.869039329253827\n",
    "10,24.657882976573138\n",
    "10,24.528073347866478\n",
    "\"\"\""
   ]
  },
  {
   "cell_type": "code",
   "execution_count": 6,
   "metadata": {},
   "outputs": [
    {
     "name": "stdout",
     "output_type": "stream",
     "text": [
      "<class 'pandas.core.frame.DataFrame'>\n",
      "RangeIndex: 100 entries, 0 to 99\n",
      "Data columns (total 2 columns):\n",
      " #   Column  Non-Null Count  Dtype  \n",
      "---  ------  --------------  -----  \n",
      " 0   x [cm]  98 non-null     float64\n",
      " 1   F [N]   100 non-null    float64\n",
      "dtypes: float64(2)\n",
      "memory usage: 1.7 KB\n"
     ]
    }
   ],
   "source": [
    "data_pokazene = pd.read_csv(io.StringIO(csv_data_pokazene.strip()))\n",
    "\n",
    "# zobrazenie tabulky\n",
    "data_pokazene.info()"
   ]
  },
  {
   "cell_type": "markdown",
   "metadata": {},
   "source": [
    "Z reportu s pokazenými dátami vieme vyčítať, že:\n",
    "\n",
    "- v stĺpci `x [cm]` máme tentokrát 98 _\"non-null\"_ hodnôt, teda v nejakých riadkoch chýba hodnota (zároveň sa zmenil typ na `float`, a to kvôli výskytu `NaN`)\n",
    "\n",
    "V nasledujúcich bunkách je ukážka, ako zistiť, kde sú chýbajúce dáta."
   ]
  },
  {
   "cell_type": "code",
   "execution_count": 7,
   "metadata": {},
   "outputs": [
    {
     "data": {
      "text/plain": [
       "False    98\n",
       "True      2\n",
       "Name: x [cm], dtype: int64"
      ]
     },
     "execution_count": 7,
     "metadata": {},
     "output_type": "execute_result"
    }
   ],
   "source": [
    "# zratanie NaN hodnôt v stĺpci 'x [cm]'\n",
    "data_pokazene['x [cm]'].isna().value_counts()"
   ]
  },
  {
   "cell_type": "code",
   "execution_count": 8,
   "metadata": {},
   "outputs": [
    {
     "data": {
      "text/html": [
       "<div>\n",
       "<style scoped>\n",
       "    .dataframe tbody tr th:only-of-type {\n",
       "        vertical-align: middle;\n",
       "    }\n",
       "\n",
       "    .dataframe tbody tr th {\n",
       "        vertical-align: top;\n",
       "    }\n",
       "\n",
       "    .dataframe thead th {\n",
       "        text-align: right;\n",
       "    }\n",
       "</style>\n",
       "<table border=\"1\" class=\"dataframe\">\n",
       "  <thead>\n",
       "    <tr style=\"text-align: right;\">\n",
       "      <th></th>\n",
       "      <th>x [cm]</th>\n",
       "      <th>F [N]</th>\n",
       "    </tr>\n",
       "  </thead>\n",
       "  <tbody>\n",
       "    <tr>\n",
       "      <th>21</th>\n",
       "      <td>NaN</td>\n",
       "      <td>7.654336</td>\n",
       "    </tr>\n",
       "    <tr>\n",
       "      <th>82</th>\n",
       "      <td>NaN</td>\n",
       "      <td>22.915503</td>\n",
       "    </tr>\n",
       "  </tbody>\n",
       "</table>\n",
       "</div>"
      ],
      "text/plain": [
       "    x [cm]      F [N]\n",
       "21     NaN   7.654336\n",
       "82     NaN  22.915503"
      ]
     },
     "execution_count": 8,
     "metadata": {},
     "output_type": "execute_result"
    }
   ],
   "source": [
    "# riadky s NaN hodnotami\n",
    "data_pokazene.loc[data_pokazene['x [cm]'].isna(), :]"
   ]
  },
  {
   "cell_type": "markdown",
   "metadata": {},
   "source": [
    "\n",
    "V predošlej bunke sme odfiltrovali len tie riadky, ktoré v stĺpci `x [cm]` obsahovali `NaN`. Rozberme si daný kód:\n",
    "\n",
    "1. `data_pokazene` - názov `DataFrame`-u, s ktorým pracujeme.\n",
    "\n",
    "2. `.loc[]` - metóda na prístup k riadkom a stĺpcom `DataFrame`-u pomocou názvov alebo booleovských podmienok.\n",
    "\n",
    "3. `data_pokazene['x [cm]'].isna()` - táto časť vytvára zoznam hodnôt `True` alebo `False`:\n",
    "   - `data_pokazene['x [cm]']` vyberá stĺpec s názvom \"x [cm]\"\n",
    "   - `.isna()` kontroluje, ktoré hodnoty v tomto stĺpci sú NaN (chýbajúce hodnoty)\n",
    "\n",
    "4. `:`  - dvojbodka za čiarkou znamená, že chceme vybrať všetky stĺpce (môžeme špecifikovať, ktoré stĺpce sa zobrazia, napr. len jeden stĺpce `'x [cm]'`, alebo len časť stĺpcov daná zoznamom `['x [cm]', 'F [N]]`)\n",
    "\n",
    "> _**Poznámka:**_ Tak, ako indexovanie zoznamov v Pythone začína nulou, takisto aj v pandas `DataFrame` číslovanie riadkov začína nulou, napr. v našom prípade riadok s indexom 21 je v poradí 22.-hý."
   ]
  },
  {
   "cell_type": "markdown",
   "metadata": {},
   "source": [
    "## Úprava dát"
   ]
  },
  {
   "cell_type": "markdown",
   "metadata": {},
   "source": [
    "Napokon si ukážeme, ako môžete robiť jednoduché úpravy dát. Napr. predĺženie $x$ bolo namerené v $\\mathrm{cm}$ $\\rightarrow$ je potrebná premena z $\\mathrm{cm}$ na $\\mathrm{m}$"
   ]
  },
  {
   "cell_type": "code",
   "execution_count": 9,
   "metadata": {},
   "outputs": [
    {
     "data": {
      "text/html": [
       "<div>\n",
       "<style scoped>\n",
       "    .dataframe tbody tr th:only-of-type {\n",
       "        vertical-align: middle;\n",
       "    }\n",
       "\n",
       "    .dataframe tbody tr th {\n",
       "        vertical-align: top;\n",
       "    }\n",
       "\n",
       "    .dataframe thead th {\n",
       "        text-align: right;\n",
       "    }\n",
       "</style>\n",
       "<table border=\"1\" class=\"dataframe\">\n",
       "  <thead>\n",
       "    <tr style=\"text-align: right;\">\n",
       "      <th></th>\n",
       "      <th>x [cm]</th>\n",
       "      <th>F [N]</th>\n",
       "      <th>x [m]</th>\n",
       "    </tr>\n",
       "  </thead>\n",
       "  <tbody>\n",
       "    <tr>\n",
       "      <th>10</th>\n",
       "      <td>2</td>\n",
       "      <td>4.374571</td>\n",
       "      <td>0.02</td>\n",
       "    </tr>\n",
       "    <tr>\n",
       "      <th>88</th>\n",
       "      <td>9</td>\n",
       "      <td>24.029580</td>\n",
       "      <td>0.09</td>\n",
       "    </tr>\n",
       "    <tr>\n",
       "      <th>69</th>\n",
       "      <td>7</td>\n",
       "      <td>16.320018</td>\n",
       "      <td>0.07</td>\n",
       "    </tr>\n",
       "    <tr>\n",
       "      <th>55</th>\n",
       "      <td>6</td>\n",
       "      <td>14.690524</td>\n",
       "      <td>0.06</td>\n",
       "    </tr>\n",
       "    <tr>\n",
       "      <th>85</th>\n",
       "      <td>9</td>\n",
       "      <td>21.909230</td>\n",
       "      <td>0.09</td>\n",
       "    </tr>\n",
       "    <tr>\n",
       "      <th>40</th>\n",
       "      <td>5</td>\n",
       "      <td>13.340733</td>\n",
       "      <td>0.05</td>\n",
       "    </tr>\n",
       "    <tr>\n",
       "      <th>90</th>\n",
       "      <td>10</td>\n",
       "      <td>25.548745</td>\n",
       "      <td>0.10</td>\n",
       "    </tr>\n",
       "    <tr>\n",
       "      <th>57</th>\n",
       "      <td>6</td>\n",
       "      <td>15.501624</td>\n",
       "      <td>0.06</td>\n",
       "    </tr>\n",
       "    <tr>\n",
       "      <th>63</th>\n",
       "      <td>7</td>\n",
       "      <td>19.199537</td>\n",
       "      <td>0.07</td>\n",
       "    </tr>\n",
       "    <tr>\n",
       "      <th>46</th>\n",
       "      <td>5</td>\n",
       "      <td>12.883122</td>\n",
       "      <td>0.05</td>\n",
       "    </tr>\n",
       "  </tbody>\n",
       "</table>\n",
       "</div>"
      ],
      "text/plain": [
       "    x [cm]      F [N]  x [m]\n",
       "10       2   4.374571   0.02\n",
       "88       9  24.029580   0.09\n",
       "69       7  16.320018   0.07\n",
       "55       6  14.690524   0.06\n",
       "85       9  21.909230   0.09\n",
       "40       5  13.340733   0.05\n",
       "90      10  25.548745   0.10\n",
       "57       6  15.501624   0.06\n",
       "63       7  19.199537   0.07\n",
       "46       5  12.883122   0.05"
      ]
     },
     "execution_count": 9,
     "metadata": {},
     "output_type": "execute_result"
    }
   ],
   "source": [
    "# predpripravenie dát - konverzia z cm na m\n",
    "data[\"x [m]\"] = data[\"x [cm]\"]/100\n",
    "\n",
    "# zobrazenie vzorky z dát\n",
    "data.sample(n=10)"
   ]
  },
  {
   "cell_type": "code",
   "execution_count": 10,
   "metadata": {},
   "outputs": [
    {
     "data": {
      "text/html": [
       "<div>\n",
       "<style scoped>\n",
       "    .dataframe tbody tr th:only-of-type {\n",
       "        vertical-align: middle;\n",
       "    }\n",
       "\n",
       "    .dataframe tbody tr th {\n",
       "        vertical-align: top;\n",
       "    }\n",
       "\n",
       "    .dataframe thead th {\n",
       "        text-align: right;\n",
       "    }\n",
       "</style>\n",
       "<table border=\"1\" class=\"dataframe\">\n",
       "  <thead>\n",
       "    <tr style=\"text-align: right;\">\n",
       "      <th></th>\n",
       "      <th>x [cm]</th>\n",
       "      <th>F [N]</th>\n",
       "      <th>x [m]</th>\n",
       "    </tr>\n",
       "  </thead>\n",
       "  <tbody>\n",
       "    <tr>\n",
       "      <th>17</th>\n",
       "      <td>2</td>\n",
       "      <td>5.123881</td>\n",
       "      <td>0.02</td>\n",
       "    </tr>\n",
       "    <tr>\n",
       "      <th>18</th>\n",
       "      <td>2</td>\n",
       "      <td>5.274460</td>\n",
       "      <td>0.02</td>\n",
       "    </tr>\n",
       "    <tr>\n",
       "      <th>19</th>\n",
       "      <td>2</td>\n",
       "      <td>3.473475</td>\n",
       "      <td>0.02</td>\n",
       "    </tr>\n",
       "    <tr>\n",
       "      <th>20</th>\n",
       "      <td>3</td>\n",
       "      <td>9.150700</td>\n",
       "      <td>0.03</td>\n",
       "    </tr>\n",
       "    <tr>\n",
       "      <th>21</th>\n",
       "      <td>3</td>\n",
       "      <td>7.654336</td>\n",
       "      <td>0.03</td>\n",
       "    </tr>\n",
       "    <tr>\n",
       "      <th>22</th>\n",
       "      <td>3</td>\n",
       "      <td>7.112860</td>\n",
       "      <td>0.03</td>\n",
       "    </tr>\n",
       "  </tbody>\n",
       "</table>\n",
       "</div>"
      ],
      "text/plain": [
       "    x [cm]     F [N]  x [m]\n",
       "17       2  5.123881   0.02\n",
       "18       2  5.274460   0.02\n",
       "19       2  3.473475   0.02\n",
       "20       3  9.150700   0.03\n",
       "21       3  7.654336   0.03\n",
       "22       3  7.112860   0.03"
      ]
     },
     "execution_count": 10,
     "metadata": {},
     "output_type": "execute_result"
    }
   ],
   "source": [
    "# zobrazenie riadkov v konkrétnom rozsahu\n",
    "data.loc[17:22, :]"
   ]
  },
  {
   "cell_type": "markdown",
   "metadata": {},
   "source": [
    "# Jednoduchá vizualizácia dát"
   ]
  },
  {
   "cell_type": "markdown",
   "metadata": {},
   "source": [
    "Namerané dáta v našom prípade možno vizualizovať v podobe bodov $[x_i,F_i]$ pre $i=1,2,...,100$. Presne takto možno podať dáta Sagu na vykreslenie - v podobe dvojíc."
   ]
  },
  {
   "cell_type": "code",
   "execution_count": 11,
   "metadata": {},
   "outputs": [
    {
     "data": {
      "text/plain": [
       "[(0.02, 5.123880905287038),\n",
       " (0.02, 5.274459923759964),\n",
       " (0.02, 3.47347546813016),\n",
       " (0.03, 9.150699691186476),\n",
       " (0.03, 7.654335535456358)]"
      ]
     },
     "execution_count": 11,
     "metadata": {},
     "output_type": "execute_result"
    }
   ],
   "source": [
    "# vytvorenie zoznamu dvojic v tvare (x_1, F_1), (x_2, F_2)\n",
    "data_body = list(zip(data[\"x [m]\"], data[\"F [N]\"]))\n",
    "\n",
    "# vzorka bodov\n",
    "data_body[17:22]"
   ]
  },
  {
   "cell_type": "markdown",
   "metadata": {},
   "source": [
    "> **Poznámka:** Funkcia `zip()`, navzájom spojí odpovedajúce si hodnoty do dvojíc (podobne ako to robí zips). Následne `list()` premení tento \"zips\" dvojíc na python zoznam. Takýto zoznam si môžete zadať aj ručne, napr. `[[1,4], [2, 3.5], ...]`"
   ]
  },
  {
   "cell_type": "markdown",
   "metadata": {},
   "source": [
    "Okrem príkazu `plot()`, s ktorým ste sa mohli stretnúť pri vykresľovaní matematických, sú v Sagi dostupné aj iné príkazy. Na vykresľovanie bodov možno použiť príkaz `points()`. Ak by ste mali zoznam bodov, ktoré by ste chceli pospájať čiarou, môžete použiť príkaz `line()`"
   ]
  },
  {
   "cell_type": "code",
   "execution_count": 12,
   "metadata": {},
   "outputs": [],
   "source": [
    "# prázdny graf - nastavenie formátovania grafu: nadpis, označenie osí pomocou LaTeX-u \n",
    "graf_format = plot([], title=\"Meranie závislosti $F~(x)$\", axes_labels = [r\"$x~\\mathrm{[m]}$\", r\"$F~\\mathrm{[N]}$\"], frame=True, gridlines=True)"
   ]
  },
  {
   "cell_type": "code",
   "execution_count": 13,
   "metadata": {},
   "outputs": [],
   "source": [
    "# vytvorenie grafu pre namerané data - body, xmin, xmax, ymin, ymax nastavujú rozsah zobrazenych osich\n",
    "graf_merania = points(data_body, xmin=0)"
   ]
  },
  {
   "cell_type": "code",
   "execution_count": 14,
   "metadata": {},
   "outputs": [
    {
     "data": {
      "image/png": "[encoded data removed]",
      "text/plain": [
       "Graphics object consisting of 1 graphics primitive"
      ]
     },
     "execution_count": 14,
     "metadata": {},
     "output_type": "execute_result"
    }
   ],
   "source": [
    "# vysledný graf cez \"sčítavanie\" grafov\n",
    "vysledny_graf = graf_merania + graf_format\n",
    "\n",
    "# zobrazenie vysledneho grafu\n",
    "vysledny_graf"
   ]
  },
  {
   "cell_type": "code",
   "execution_count": 15,
   "metadata": {},
   "outputs": [],
   "source": [
    "# uloženie vysledného grafu ako png \n",
    "# dpi - nastavenie vysokej kvality obrázku\n",
    "vysledny_graf.save(\"graf_meranie.png\", dpi=300)"
   ]
  },
  {
   "cell_type": "markdown",
   "metadata": {},
   "source": [
    "# Pokročilá vizualizácia"
   ]
  },
  {
   "cell_type": "markdown",
   "metadata": {},
   "source": [
    "Ako bolo sľúbené na začiatku, tu sa dostávame ku vykresľovaniu grafu s _error barmi_. Na to použijeme príkaz `plot_errorbars()`. Na vytvorenie grafu je potrebné zadať dva povinné parametre:\n",
    "\n",
    "- $x$-ové hodnoty - v našom prípade je sú hodnoty zo stĺpca `'x [m]'` z `DataFrame`-u `data`\\\n",
    "- $y$-ové hodnoty - v našom prípade je sú hodnoty zo stĺpca `'F [N]'` z `DataFrame`-u `data`\n",
    "\n",
    "> _**Poznámka:**_ Príkaz `plot_errorbars()` je načítaný z našej Github knižnice. Pre detaily môžete pozrieť zdrojový kód cez link v prvej kódovej bunke tohto dokumentu. Pre dodatočné nastavenie grafu môžete pozrieť `help` k príkazu `plot_errorbars`"
   ]
  },
  {
   "cell_type": "code",
   "execution_count": 16,
   "metadata": {},
   "outputs": [
    {
     "data": {
      "image/png": "[encoded data removed]",
      "text/plain": [
       "Graphics object consisting of 31 graphics primitives"
      ]
     },
     "execution_count": 16,
     "metadata": {},
     "output_type": "execute_result"
    }
   ],
   "source": [
    "# vykreslenie grafu s error barmi s pridaným popisom do legendy\n",
    "graf_errorbars = plot_errorbars(data[\"x [m]\"], data[\"F [N]\"], legend_label_mean=\"Priemery pre jednotlivé merania\")\n",
    "graf_errorbars"
   ]
  },
  {
   "cell_type": "code",
   "execution_count": 17,
   "metadata": {},
   "outputs": [
    {
     "data": {
      "image/png": "[encoded data removed]",
      "text/plain": [
       "Graphics object consisting of 31 graphics primitives"
      ]
     },
     "metadata": {},
     "output_type": "display_data"
    }
   ],
   "source": [
    "# graf aj s formatovaním\n",
    "vysledny_graf_errorbars = graf_errorbars + graf_format\n",
    "vysledny_graf_errorbars.show(xmin=0)"
   ]
  },
  {
   "cell_type": "code",
   "execution_count": 18,
   "metadata": {},
   "outputs": [
    {
     "name": "stdout",
     "output_type": "stream",
     "text": [
      "Help on function plot_errorbars in module __main__:\n",
      "\n",
      "plot_errorbars(x_vals, y_vals, color_mean='blue', size_mean=30, marker_mean='o', legend_label_mean=None, color_std='red', thickness_std=1, rel_cap_width_std=0.0100000000000000)\n",
      "    Create a plot with error bars showing mean and standard deviation.\n",
      "    \n",
      "    Parameters:\n",
      "    x_vals (list): List of x-values\n",
      "    y_vals (list): List of y-values\n",
      "    color_mean (str): Color of the mean points (default: 'blue')\n",
      "    size_mean (int): Size of the mean points (default: 30)\n",
      "    marker_mean (str): Marker style for mean points (default: 'o')\n",
      "    legen_label_mean (str): Legend label for mean points (default: None)\n",
      "    color_std (str): Color of the error bars (default: 'red')\n",
      "    thickness_std (int): Thickness of the error bars (default: 1)\n",
      "    rel_cap_width_std (float): Relative width of error bar caps (default: 0.01)\n",
      "    \n",
      "    Returns:\n",
      "    sage.plot.plot.Graphics: A Sage graphics object containing the plot\n",
      "\n"
     ]
    }
   ],
   "source": [
    "# help k príkazu plot_errorbars\n",
    "help(plot_errorbars)"
   ]
  },
  {
   "cell_type": "markdown",
   "metadata": {},
   "source": [
    "# Základná štatistika"
   ]
  },
  {
   "cell_type": "markdown",
   "metadata": {},
   "source": [
    "V tejto časti si ukážeme, ako možno urobiť jednoduchú štatistiku z nameraných dát. Môže sa jednať o určenie priemerov a smerodajných odchýlok pre meranie sily, osobitne pre každú hodnotu dĺžky (čo by nemuselo byť nevyhnutne celkom jednoduché pri práci v Exceli).\n",
    "  \n",
    "V nasledujúcej bunke je ukážka, ako takú štatistiku vytvoriť."
   ]
  },
  {
   "cell_type": "code",
   "execution_count": 19,
   "metadata": {},
   "outputs": [
    {
     "data": {
      "text/html": [
       "<div>\n",
       "<style scoped>\n",
       "    .dataframe tbody tr th:only-of-type {\n",
       "        vertical-align: middle;\n",
       "    }\n",
       "\n",
       "    .dataframe tbody tr th {\n",
       "        vertical-align: top;\n",
       "    }\n",
       "\n",
       "    .dataframe thead th {\n",
       "        text-align: right;\n",
       "    }\n",
       "</style>\n",
       "<table border=\"1\" class=\"dataframe\">\n",
       "  <thead>\n",
       "    <tr style=\"text-align: right;\">\n",
       "      <th></th>\n",
       "      <th>x [m]</th>\n",
       "      <th>mean</th>\n",
       "      <th>std</th>\n",
       "    </tr>\n",
       "  </thead>\n",
       "  <tbody>\n",
       "    <tr>\n",
       "      <th>0</th>\n",
       "      <td>0.01</td>\n",
       "      <td>2.574061</td>\n",
       "      <td>0.959454</td>\n",
       "    </tr>\n",
       "    <tr>\n",
       "      <th>1</th>\n",
       "      <td>0.02</td>\n",
       "      <td>4.717737</td>\n",
       "      <td>0.733852</td>\n",
       "    </tr>\n",
       "    <tr>\n",
       "      <th>2</th>\n",
       "      <td>0.03</td>\n",
       "      <td>7.489028</td>\n",
       "      <td>1.324816</td>\n",
       "    </tr>\n",
       "    <tr>\n",
       "      <th>3</th>\n",
       "      <td>0.04</td>\n",
       "      <td>9.818220</td>\n",
       "      <td>1.329139</td>\n",
       "    </tr>\n",
       "    <tr>\n",
       "      <th>4</th>\n",
       "      <td>0.05</td>\n",
       "      <td>12.434006</td>\n",
       "      <td>1.215684</td>\n",
       "    </tr>\n",
       "    <tr>\n",
       "      <th>5</th>\n",
       "      <td>0.06</td>\n",
       "      <td>15.222645</td>\n",
       "      <td>0.891128</td>\n",
       "    </tr>\n",
       "    <tr>\n",
       "      <th>6</th>\n",
       "      <td>0.07</td>\n",
       "      <td>16.932767</td>\n",
       "      <td>0.966070</td>\n",
       "    </tr>\n",
       "    <tr>\n",
       "      <th>7</th>\n",
       "      <td>0.08</td>\n",
       "      <td>20.314861</td>\n",
       "      <td>1.030964</td>\n",
       "    </tr>\n",
       "    <tr>\n",
       "      <th>8</th>\n",
       "      <td>0.09</td>\n",
       "      <td>22.845039</td>\n",
       "      <td>0.817209</td>\n",
       "    </tr>\n",
       "    <tr>\n",
       "      <th>9</th>\n",
       "      <td>0.10</td>\n",
       "      <td>25.272290</td>\n",
       "      <td>0.861696</td>\n",
       "    </tr>\n",
       "  </tbody>\n",
       "</table>\n",
       "</div>"
      ],
      "text/plain": [
       "   x [m]       mean       std\n",
       "0   0.01   2.574061  0.959454\n",
       "1   0.02   4.717737  0.733852\n",
       "2   0.03   7.489028  1.324816\n",
       "3   0.04   9.818220  1.329139\n",
       "4   0.05  12.434006  1.215684\n",
       "5   0.06  15.222645  0.891128\n",
       "6   0.07  16.932767  0.966070\n",
       "7   0.08  20.314861  1.030964\n",
       "8   0.09  22.845039  0.817209\n",
       "9   0.10  25.272290  0.861696"
      ]
     },
     "execution_count": 19,
     "metadata": {},
     "output_type": "execute_result"
    }
   ],
   "source": [
    "# štatistika z dát - priemery a smerodajná odchýlka (std)\n",
    "stats = data.groupby(\"x [m]\")[\"F [N]\"].agg([\"mean\", \"std\"]).reset_index()\n",
    "stats"
   ]
  },
  {
   "cell_type": "markdown",
   "metadata": {},
   "source": [
    "Táto bunka vykonáva niekoľko operácií na `DataFrame`-e `data`:\n",
    "\n",
    "1. `data.groupby(\"x [m]\")`: Zoskupuje dáta podľa hodnôt v stĺpci `\"x [m]\"`.\n",
    "\n",
    "2. `[\"F [N]\"]`: Vyberie stĺpec `\"F [N]\"` pre ďalšie operácie.\n",
    "\n",
    "3. `.agg([\"mean\", \"std\"])`: Počíta priemer (`\"mean\"`) a smerodajnú odchýlku (`\"std\"`) pre hodnoty `\"F [N]\"` v každej skupine.\n",
    "\n",
    "4. `.reset_index()`: Obnoví index výsledného DataFrame-u.\n",
    "\n",
    "Výsledkom je nový DataFrame `stats`, ktorý obsahuje pre každú unikátnu hodnotu `\"x [m]\"` priemernú hodnotu a smerodajnú odchýlku `\"F [N]\"`."
   ]
  },
  {
   "cell_type": "markdown",
   "metadata": {},
   "source": [
    "# Fitovanie modelu"
   ]
  },
  {
   "cell_type": "markdown",
   "metadata": {},
   "source": [
    "Tu už sa blížime do finále, keď určíme hodnotu pružnosti pružiny $k$. Ako naznačuje závislosť $F=kx$, bude potrebné fitovať lineárnu závislosť. Najprv si ju zadefinujeme ako model."
   ]
  },
  {
   "cell_type": "code",
   "execution_count": 20,
   "metadata": {},
   "outputs": [
    {
     "data": {
      "text/html": [
       "<html><script type=\"math/tex; mode=display\">\\newcommand{\\Bold}[1]{\\mathbf{#1}}x \\ {\\mapsto}\\ k x</script></html>"
      ],
      "text/latex": [
       "$$\\newcommand{\\Bold}[1]{\\mathbf{#1}}x \\ {\\mapsto}\\ k x$$"
      ],
      "text/plain": [
       "x |--> k*x"
      ]
     },
     "metadata": {},
     "output_type": "display_data"
    }
   ],
   "source": [
    "# premenné vystupujúce v modeli - konštanta pružnosti k a predĺženie x\n",
    "k = var(\"k\")\n",
    "x = var(\"x\")\n",
    "\n",
    "# zadefinovanie modelu\n",
    "F(x) = k*x\n",
    "\n",
    "# zobrazenie pre kontrolu\n",
    "show(F)"
   ]
  },
  {
   "cell_type": "markdown",
   "metadata": {},
   "source": [
    "Teraz je potrebné povedať, čo zoberieme ako fitované dáta. Môže sa jednať o celý pôvodný dataset uložený v `data_body` ako množina bodov. Trochu iný prístup môže byť zobrať ako fitované dáta len priemery $F$ pre každú z hodnôt $x$. Vyskúšame to druhou zmienenou cestou. Teda, vytvorme body v tvare $[x,F_{priemer}]$. "
   ]
  },
  {
   "cell_type": "code",
   "execution_count": 21,
   "metadata": {},
   "outputs": [
    {
     "data": {
      "text/plain": [
       "[(0.01, 2.5740609153594516),\n",
       " (0.02, 4.717737184174834),\n",
       " (0.03, 7.489028204853416),\n",
       " (0.04, 9.818219913813326),\n",
       " (0.05, 12.434005758582316),\n",
       " (0.06, 15.222645002062995),\n",
       " (0.07, 16.93276737703293),\n",
       " (0.08, 20.31486098117076),\n",
       " (0.09, 22.845039061713898),\n",
       " (0.1, 25.272289846413425)]"
      ]
     },
     "execution_count": 21,
     "metadata": {},
     "output_type": "execute_result"
    }
   ],
   "source": [
    "x_F_priemery = list(zip(stats['x [m]'], stats['mean']))\n",
    "x_F_priemery"
   ]
  },
  {
   "cell_type": "markdown",
   "metadata": {},
   "source": [
    "Napokon, samotné **fitovanie**. Na to je v Sagi k dispozícii príkaz `find_fit()`, kde ako prvý parameter vystupuje zoznam fitovaných bodov (v našom prípade `x_F_priemery`) a ako druhý parameter fitovaný model, v našom prípade to je sila `F(x)` - $F$ v závislosti od $x$."
   ]
  },
  {
   "cell_type": "code",
   "execution_count": 22,
   "metadata": {},
   "outputs": [
    {
     "data": {
      "text/plain": [
       "{k: 251.07322282452083}"
      ]
     },
     "execution_count": 22,
     "metadata": {},
     "output_type": "execute_result"
    }
   ],
   "source": [
    "# najdenie parametru k, vystup v tvare Python slovnika (dobre sa s nim pracuje)\n",
    "fit = find_fit(x_F_priemery, F, solution_dict=True)\n",
    "\n",
    "fit"
   ]
  },
  {
   "cell_type": "markdown",
   "metadata": {},
   "source": [
    "> _**Poznámka:**_ Tu sme nastavili aj hodnotu nepovinného parametra `solution_dict` na `True`, čím získame výsledok v tvare python slovníka. Aký bude výstup, `solution_dict` nenastavíte (resp. nastavíte na `False`)?"
   ]
  },
  {
   "cell_type": "markdown",
   "metadata": {},
   "source": [
    "# Výsledok"
   ]
  },
  {
   "cell_type": "markdown",
   "metadata": {},
   "source": [
    "Fitovaním k nameraným priemerným hodnotám $F$ sa teda podarilo určiť hodnotu pružnosti pružiny $k~\\dot{=}~251~\\mathrm{N/m}$. Otázka je, či táto hodnota dobre popisuje namerané dáta. Takže, potrebujeme ešte zobraziť $F(x)$ pre nájdenú hodnotu $k$. Najprv zasubstituujeme nájdenú číselnú hodnotu za symbolickú premennú `k` v skôr definovanom modeli `F(x) = k*x`:"
   ]
  },
  {
   "cell_type": "code",
   "execution_count": 23,
   "metadata": {},
   "outputs": [
    {
     "data": {
      "text/plain": [
       "x |--> 251.07322282452083*x"
      ]
     },
     "execution_count": 23,
     "metadata": {},
     "output_type": "execute_result"
    }
   ],
   "source": [
    "# substitúcia číselnej hodnoty parametra k v pôvodnom modeli \n",
    "F_fit(x) = F(x).subs(fit)\n",
    "\n",
    "# kontrola\n",
    "F_fit"
   ]
  },
  {
   "cell_type": "markdown",
   "metadata": {},
   "source": [
    "Napokon, doplnenie funkcie `F_fit` do grafu."
   ]
  },
  {
   "cell_type": "code",
   "execution_count": 24,
   "metadata": {},
   "outputs": [],
   "source": [
    "# vykreslenie modelu s najdenym fitom parametra k\n",
    "stitok_fit = rf\"Fit, $k=$ {round(fit[k], 2)} N/m\"\n",
    "graf_fit = plot(F_fit, xmin=0, xmax=0.1, legend_label=stitok_fit, color=\"green\")"
   ]
  },
  {
   "cell_type": "markdown",
   "metadata": {},
   "source": [
    "> _**Poznámka:**_ Tu sme urobili pokročilejšiu úpravu štítku do legendy pre fitovanú krivku tak, aby sa automaticky načítala fitovaná hodnota ako prvok zo slovnika `fit[k]`, zaokrúhlila sa na 2 desatinné miesta pomocou `round()` a napokon doplnila do python reťazca cez formátovanie reťazca, čo indukuje `f` pred úvodzovkami. `r` tu, ako aj inde v kóde, figuruje pri reťazcoch kvôli peknému vloženiu $\\LaTeX$-u."
   ]
  },
  {
   "cell_type": "code",
   "execution_count": 25,
   "metadata": {},
   "outputs": [
    {
     "data": {
      "image/png": "[encoded data removed]",
      "text/plain": [
       "Graphics object consisting of 32 graphics primitives"
      ]
     },
     "execution_count": 25,
     "metadata": {},
     "output_type": "execute_result"
    }
   ],
   "source": [
    "vysledny_graf_fit = graf_fit + graf_errorbars + graf_format\n",
    "vysledny_graf_fit"
   ]
  },
  {
   "cell_type": "code",
   "execution_count": 26,
   "metadata": {},
   "outputs": [],
   "source": [
    "# uloženie výsledného grafu\n",
    "vysledny_graf_fit.save(\"vysledny_graf_fit.png\", dpi=300)"
   ]
  },
  {
   "cell_type": "markdown",
   "metadata": {},
   "source": [
    "## Záver\n",
    "Fitovaná priamka s nájdenou hodnotou $k$ dobre popisuje namerané dáta (priamka vždy pretína interval $\\mathrm{priemer}\\pm\\mathrm{smerodajná~odchýlka}$).\n",
    "\n",
    "> _**Disclaimer:**_ Dáta, s ktorými sme celý čas pracovali, boli náhodne vygenerované a slúžili len na ilustratívne účely, ako spracovať opakované merania takéhoto druhu. "
   ]
  },
  {
   "cell_type": "markdown",
   "metadata": {},
   "source": [
    "# Priestor na experimentovanie"
   ]
  },
  {
   "cell_type": "code",
   "execution_count": null,
   "metadata": {},
   "outputs": [],
   "source": []
  },
  {
   "cell_type": "code",
   "execution_count": null,
   "metadata": {},
   "outputs": [],
   "source": []
  },
  {
   "cell_type": "code",
   "execution_count": null,
   "metadata": {},
   "outputs": [],
   "source": []
  }
 ],
 "metadata": {
  "kernelspec": {
   "display_name": "SageMath 9.3",
   "language": "sage",
   "name": "sagemath"
  },
  "language_info": {
   "codemirror_mode": {
    "name": "ipython",
    "version": 3
   },
   "file_extension": ".py",
   "mimetype": "text/x-python",
   "name": "python",
   "nbconvert_exporter": "python",
   "pygments_lexer": "ipython3",
   "version": "3.7.10"
  }
 },
 "nbformat": 4,
 "nbformat_minor": 5
}
